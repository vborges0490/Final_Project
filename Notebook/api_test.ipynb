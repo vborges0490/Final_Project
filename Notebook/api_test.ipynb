{
 "cells": [
  {
   "cell_type": "code",
   "execution_count": 5,
   "id": "d162da3b-2f59-49a4-a022-ca95eaacecba",
   "metadata": {},
   "outputs": [
    {
     "name": "stdout",
     "output_type": "stream",
     "text": [
      "{'dominantColorHex': '#eee2ca', 'predictedCategory': [['Shirt', 0.21175071597099304], ['Dress', 0.15245841443538666]]}\n"
     ]
    }
   ],
   "source": [
    "import requests\n",
    "\n",
    "# URL of your Flask API\n",
    "url = 'http://127.0.0.1:5000/predict'\n",
    "\n",
    "# Path to the image file you want to test\n",
    "image_path = 'C:/Users/vborg/OneDrive/Imagens/yellow_long.jpg'\n",
    "\n",
    "# Open the image file in binary mode\n",
    "with open(image_path, 'rb') as file:\n",
    "    # Define the request payload as a dictionary\n",
    "    files = {'file': (image_path, file, 'image/jpeg')}\n",
    "    \n",
    "    # Send the POST request\n",
    "    response = requests.post(url, files=files)\n",
    "\n",
    "# Print the response from the Flask application\n",
    "print(response.json())"
   ]
  },
  {
   "cell_type": "code",
   "execution_count": null,
   "id": "2778dd6d-5bac-491a-86ce-3f8c9a5a7408",
   "metadata": {},
   "outputs": [],
   "source": []
  },
  {
   "cell_type": "code",
   "execution_count": null,
   "id": "033c9845-3dba-4c78-810c-dad508754a46",
   "metadata": {},
   "outputs": [],
   "source": []
  }
 ],
 "metadata": {
  "kernelspec": {
   "display_name": "Myproject",
   "language": "python",
   "name": "myproject"
  },
  "language_info": {
   "codemirror_mode": {
    "name": "ipython",
    "version": 3
   },
   "file_extension": ".py",
   "mimetype": "text/x-python",
   "name": "python",
   "nbconvert_exporter": "python",
   "pygments_lexer": "ipython3",
   "version": "3.11.5"
  }
 },
 "nbformat": 4,
 "nbformat_minor": 5
}
