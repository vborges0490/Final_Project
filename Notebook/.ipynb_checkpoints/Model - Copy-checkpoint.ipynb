{
 "cells": [
  {
   "cell_type": "code",
   "execution_count": 1,
   "id": "f906d8d4-4dd5-4a70-9608-b78c64af101b",
   "metadata": {},
   "outputs": [],
   "source": [
    "import tensorflow as tf\n",
    "from tensorflow.keras.datasets import fashion_mnist\n",
    "from tensorflow.keras.preprocessing.image import ImageDataGenerator\n",
    "\n",
    "(train_images, train_labels), (test_images, test_labels) = fashion_mnist.load_data()\n",
    "\n",
    "train_images = train_images.reshape((train_images.shape[0], 28, 28, 1)).astype('float32') / 255.0\n",
    "test_images = test_images.reshape((test_images.shape[0], 28, 28, 1)).astype('float32') / 255.0"
   ]
  },
  {
   "cell_type": "code",
   "execution_count": 2,
   "id": "5b731d0d-1296-4206-a497-f3f8a3851499",
   "metadata": {},
   "outputs": [],
   "source": [
    "datagen = ImageDataGenerator(\n",
    "    rotation_range=10,  # Random rotations from 0 to 10 degrees\n",
    "    width_shift_range=0.1,  # Random horizontal shifts\n",
    "    height_shift_range=0.1,  # Random vertical shifts\n",
    "    shear_range=0.1,  # Shear transformations\n",
    "    zoom_range=0.1,  # Random zoom\n",
    "    horizontal_flip=True,  # Allow horizontal flips\n",
    "    fill_mode='nearest'\n",
    ")\n",
    "\n",
    "datagen.fit(train_images)"
   ]
  },
  {
   "cell_type": "code",
   "execution_count": 3,
   "id": "a9285499-35d2-4008-b30e-b959fd9aba47",
   "metadata": {},
   "outputs": [
    {
     "name": "stderr",
     "output_type": "stream",
     "text": [
      "C:\\Users\\vborg\\Documents\\IronHack\\Class\\Week3\\Project\\Myproject\\Lib\\site-packages\\keras\\src\\layers\\convolutional\\base_conv.py:99: UserWarning: Do not pass an `input_shape`/`input_dim` argument to a layer. When using Sequential models, prefer using an `Input(shape)` object as the first layer in the model instead.\n",
      "  super().__init__(\n"
     ]
    }
   ],
   "source": [
    "model = tf.keras.Sequential([\n",
    "    tf.keras.layers.Conv2D(32, (3, 3), activation='relu', input_shape=(28, 28, 1)),\n",
    "    tf.keras.layers.MaxPooling2D((2, 2)),\n",
    "    tf.keras.layers.Conv2D(64, (3, 3), activation='relu'),\n",
    "    tf.keras.layers.MaxPooling2D((2, 2)),\n",
    "    tf.keras.layers.Conv2D(64, (3, 3), activation='relu'),\n",
    "    tf.keras.layers.Flatten(),\n",
    "    tf.keras.layers.Dense(64, activation='relu'),\n",
    "    tf.keras.layers.Dropout(0.3),  # Reduced dropout rate\n",
    "    tf.keras.layers.Dense(10, activation='softmax')\n",
    "])\n"
   ]
  },
  {
   "cell_type": "code",
   "execution_count": 4,
   "id": "15cbb11f-f397-4c4f-8ef7-ee1f0db4bb49",
   "metadata": {},
   "outputs": [],
   "source": [
    "model.compile(optimizer='adam',\n",
    "              loss='sparse_categorical_crossentropy',\n",
    "              metrics=['accuracy'])"
   ]
  },
  {
   "cell_type": "code",
   "execution_count": 5,
   "id": "10422154-5ee6-4e31-b7fb-511cb7dcdd8f",
   "metadata": {},
   "outputs": [
    {
     "name": "stdout",
     "output_type": "stream",
     "text": [
      "Epoch 1/20\n"
     ]
    },
    {
     "name": "stderr",
     "output_type": "stream",
     "text": [
      "C:\\Users\\vborg\\Documents\\IronHack\\Class\\Week3\\Project\\Myproject\\Lib\\site-packages\\keras\\src\\trainers\\data_adapters\\py_dataset_adapter.py:120: UserWarning: Your `PyDataset` class should call `super().__init__(**kwargs)` in its constructor. `**kwargs` can include `workers`, `use_multiprocessing`, `max_queue_size`. Do not pass these arguments to `fit()`, as they will be ignored.\n",
      "  self._warn_if_super_not_called()\n"
     ]
    },
    {
     "name": "stdout",
     "output_type": "stream",
     "text": [
      "\u001b[1m1875/1875\u001b[0m \u001b[32m━━━━━━━━━━━━━━━━━━━━\u001b[0m\u001b[37m\u001b[0m \u001b[1m43s\u001b[0m 21ms/step - accuracy: 0.6038 - loss: 1.0794 - val_accuracy: 0.7697 - val_loss: 0.6003\n",
      "Epoch 2/20\n",
      "\u001b[1m1875/1875\u001b[0m \u001b[32m━━━━━━━━━━━━━━━━━━━━\u001b[0m\u001b[37m\u001b[0m \u001b[1m39s\u001b[0m 21ms/step - accuracy: 0.7639 - loss: 0.6225 - val_accuracy: 0.8135 - val_loss: 0.5382\n",
      "Epoch 3/20\n",
      "\u001b[1m1875/1875\u001b[0m \u001b[32m━━━━━━━━━━━━━━━━━━━━\u001b[0m\u001b[37m\u001b[0m \u001b[1m39s\u001b[0m 21ms/step - accuracy: 0.7942 - loss: 0.5514 - val_accuracy: 0.8472 - val_loss: 0.4161\n",
      "Epoch 4/20\n",
      "\u001b[1m1875/1875\u001b[0m \u001b[32m━━━━━━━━━━━━━━━━━━━━\u001b[0m\u001b[37m\u001b[0m \u001b[1m38s\u001b[0m 20ms/step - accuracy: 0.8161 - loss: 0.4948 - val_accuracy: 0.8627 - val_loss: 0.3795\n",
      "Epoch 5/20\n",
      "\u001b[1m1875/1875\u001b[0m \u001b[32m━━━━━━━━━━━━━━━━━━━━\u001b[0m\u001b[37m\u001b[0m \u001b[1m35s\u001b[0m 19ms/step - accuracy: 0.8331 - loss: 0.4535 - val_accuracy: 0.8718 - val_loss: 0.3662\n",
      "Epoch 6/20\n",
      "\u001b[1m1875/1875\u001b[0m \u001b[32m━━━━━━━━━━━━━━━━━━━━\u001b[0m\u001b[37m\u001b[0m \u001b[1m40s\u001b[0m 22ms/step - accuracy: 0.8373 - loss: 0.4381 - val_accuracy: 0.8672 - val_loss: 0.3710\n",
      "Epoch 7/20\n",
      "\u001b[1m1875/1875\u001b[0m \u001b[32m━━━━━━━━━━━━━━━━━━━━\u001b[0m\u001b[37m\u001b[0m \u001b[1m41s\u001b[0m 22ms/step - accuracy: 0.8473 - loss: 0.4215 - val_accuracy: 0.8772 - val_loss: 0.3387\n",
      "Epoch 8/20\n",
      "\u001b[1m1875/1875\u001b[0m \u001b[32m━━━━━━━━━━━━━━━━━━━━\u001b[0m\u001b[37m\u001b[0m \u001b[1m40s\u001b[0m 21ms/step - accuracy: 0.8495 - loss: 0.4087 - val_accuracy: 0.8788 - val_loss: 0.3414\n",
      "Epoch 9/20\n",
      "\u001b[1m1875/1875\u001b[0m \u001b[32m━━━━━━━━━━━━━━━━━━━━\u001b[0m\u001b[37m\u001b[0m \u001b[1m40s\u001b[0m 21ms/step - accuracy: 0.8595 - loss: 0.3804 - val_accuracy: 0.8773 - val_loss: 0.3384\n",
      "Epoch 10/20\n",
      "\u001b[1m1875/1875\u001b[0m \u001b[32m━━━━━━━━━━━━━━━━━━━━\u001b[0m\u001b[37m\u001b[0m \u001b[1m40s\u001b[0m 21ms/step - accuracy: 0.8616 - loss: 0.3777 - val_accuracy: 0.8854 - val_loss: 0.3239\n",
      "Epoch 11/20\n",
      "\u001b[1m1875/1875\u001b[0m \u001b[32m━━━━━━━━━━━━━━━━━━━━\u001b[0m\u001b[37m\u001b[0m \u001b[1m40s\u001b[0m 21ms/step - accuracy: 0.8645 - loss: 0.3698 - val_accuracy: 0.8852 - val_loss: 0.3189\n",
      "Epoch 12/20\n",
      "\u001b[1m1875/1875\u001b[0m \u001b[32m━━━━━━━━━━━━━━━━━━━━\u001b[0m\u001b[37m\u001b[0m \u001b[1m40s\u001b[0m 21ms/step - accuracy: 0.8681 - loss: 0.3617 - val_accuracy: 0.8811 - val_loss: 0.3284\n",
      "Epoch 13/20\n",
      "\u001b[1m1875/1875\u001b[0m \u001b[32m━━━━━━━━━━━━━━━━━━━━\u001b[0m\u001b[37m\u001b[0m \u001b[1m40s\u001b[0m 21ms/step - accuracy: 0.8699 - loss: 0.3575 - val_accuracy: 0.8885 - val_loss: 0.3060\n",
      "Epoch 14/20\n",
      "\u001b[1m1875/1875\u001b[0m \u001b[32m━━━━━━━━━━━━━━━━━━━━\u001b[0m\u001b[37m\u001b[0m \u001b[1m40s\u001b[0m 21ms/step - accuracy: 0.8722 - loss: 0.3484 - val_accuracy: 0.8885 - val_loss: 0.3144\n",
      "Epoch 15/20\n",
      "\u001b[1m1875/1875\u001b[0m \u001b[32m━━━━━━━━━━━━━━━━━━━━\u001b[0m\u001b[37m\u001b[0m \u001b[1m40s\u001b[0m 21ms/step - accuracy: 0.8750 - loss: 0.3454 - val_accuracy: 0.8846 - val_loss: 0.3124\n",
      "Epoch 16/20\n",
      "\u001b[1m1875/1875\u001b[0m \u001b[32m━━━━━━━━━━━━━━━━━━━━\u001b[0m\u001b[37m\u001b[0m \u001b[1m40s\u001b[0m 21ms/step - accuracy: 0.8776 - loss: 0.3351 - val_accuracy: 0.8711 - val_loss: 0.3567\n",
      "Epoch 17/20\n",
      "\u001b[1m1875/1875\u001b[0m \u001b[32m━━━━━━━━━━━━━━━━━━━━\u001b[0m\u001b[37m\u001b[0m \u001b[1m40s\u001b[0m 21ms/step - accuracy: 0.8783 - loss: 0.3368 - val_accuracy: 0.8863 - val_loss: 0.3044\n",
      "Epoch 18/20\n",
      "\u001b[1m1875/1875\u001b[0m \u001b[32m━━━━━━━━━━━━━━━━━━━━\u001b[0m\u001b[37m\u001b[0m \u001b[1m40s\u001b[0m 21ms/step - accuracy: 0.8790 - loss: 0.3336 - val_accuracy: 0.8890 - val_loss: 0.3012\n",
      "Epoch 19/20\n",
      "\u001b[1m1875/1875\u001b[0m \u001b[32m━━━━━━━━━━━━━━━━━━━━\u001b[0m\u001b[37m\u001b[0m \u001b[1m40s\u001b[0m 21ms/step - accuracy: 0.8808 - loss: 0.3292 - val_accuracy: 0.8926 - val_loss: 0.2907\n",
      "Epoch 20/20\n",
      "\u001b[1m1875/1875\u001b[0m \u001b[32m━━━━━━━━━━━━━━━━━━━━\u001b[0m\u001b[37m\u001b[0m \u001b[1m40s\u001b[0m 21ms/step - accuracy: 0.8781 - loss: 0.3272 - val_accuracy: 0.8949 - val_loss: 0.2928\n"
     ]
    },
    {
     "data": {
      "text/plain": [
       "<keras.src.callbacks.history.History at 0x1e7fd215390>"
      ]
     },
     "execution_count": 5,
     "metadata": {},
     "output_type": "execute_result"
    }
   ],
   "source": [
    "model.fit(datagen.flow(train_images, train_labels, batch_size=32),\n",
    "          epochs=20,\n",
    "          validation_data=(test_images, test_labels))"
   ]
  },
  {
   "cell_type": "code",
   "execution_count": 6,
   "id": "aa336dfd-2c8d-4e87-8b2b-313ad392fcc0",
   "metadata": {},
   "outputs": [
    {
     "name": "stdout",
     "output_type": "stream",
     "text": [
      "313/313 - 1s - 5ms/step - accuracy: 0.8949 - loss: 0.2928\n",
      "\n",
      "Test accuracy: 0.8949000239372253\n"
     ]
    }
   ],
   "source": [
    "test_loss, test_acc = model.evaluate(test_images, test_labels, verbose=2)\n",
    "print('\\nTest accuracy:', test_acc)"
   ]
  },
  {
   "cell_type": "code",
   "execution_count": 7,
   "id": "ddbfb68c-afc4-4cc3-a6dd-d740d1fa56eb",
   "metadata": {},
   "outputs": [
    {
     "name": "stdout",
     "output_type": "stream",
     "text": [
      "\u001b[1m313/313\u001b[0m \u001b[32m━━━━━━━━━━━━━━━━━━━━\u001b[0m\u001b[37m\u001b[0m \u001b[1m2s\u001b[0m 5ms/step\n",
      "\n",
      "Confusion Matrix:\n",
      " tf.Tensor(\n",
      "[[892   0   9  14   4   2  68   0  11   0]\n",
      " [  0 978   0  15   2   0   3   0   2   0]\n",
      " [ 15   0 843   9  53   0  77   0   3   0]\n",
      " [ 20   3  12 870  28   1  61   0   5   0]\n",
      " [  2   1  44  36 841   0  73   0   3   0]\n",
      " [  0   0   0   0   0 986   0  11   0   3]\n",
      " [169   0  50  18  94   1 659   0   9   0]\n",
      " [  0   0   0   0   0  23   0 959   0  18]\n",
      " [  2   0   2   2   1   2   0   1 990   0]\n",
      " [  0   0   0   0   0  14   0  53   2 931]], shape=(10, 10), dtype=int32)\n"
     ]
    }
   ],
   "source": [
    "predictions = model.predict(test_images)\n",
    "predicted_classes = tf.argmax(predictions, axis=1)\n",
    "cm = tf.math.confusion_matrix(test_labels, predicted_classes)\n",
    "print('\\nConfusion Matrix:\\n', cm)"
   ]
  },
  {
   "cell_type": "code",
   "execution_count": 13,
   "id": "7da256e2-83ec-460d-8d8b-ffe340c30e4b",
   "metadata": {},
   "outputs": [
    {
     "name": "stdout",
     "output_type": "stream",
     "text": [
      "\u001b[1m1/1\u001b[0m \u001b[32m━━━━━━━━━━━━━━━━━━━━\u001b[0m\u001b[37m\u001b[0m \u001b[1m0s\u001b[0m 47ms/step\n",
      "Top 5 Predicted Classes with Probabilities:\n",
      "Bag: 99.25%\n",
      "T-shirt/top: 0.46%\n",
      "Shirt: 0.19%\n",
      "Pullover: 0.10%\n",
      "Trouser: 0.00%\n"
     ]
    }
   ],
   "source": [
    "import numpy as np\n",
    "import requests\n",
    "from PIL import Image\n",
    "from io import BytesIO\n",
    "from tensorflow.keras.preprocessing.image import img_to_array\n",
    "\n",
    "def download_image(image_url):\n",
    "    try:\n",
    "        response = requests.get(image_url)\n",
    "        response.raise_for_status()  # Raises an HTTPError for bad responses\n",
    "        image = Image.open(BytesIO(response.content))\n",
    "        return image\n",
    "    except requests.RequestException as e:\n",
    "        print(\"Error downloading the image: \", e)\n",
    "        return None\n",
    "\n",
    "def load_and_preprocess_image(image):\n",
    "    if image is None:\n",
    "        return None\n",
    "    try:\n",
    "        # Convert the image to grayscale and resize it to 28x28\n",
    "        image = image.convert('L').resize((28, 28))\n",
    "        # Convert the image to a numpy array and normalize it\n",
    "        image_array = img_to_array(image) / 255.0\n",
    "        # Reshape the image to match the input shape of the model\n",
    "        image_array = np.expand_dims(image_array, axis=0)  # Model expects a batch dimension\n",
    "        return image_array\n",
    "    except Exception as e:\n",
    "        print(\"Error processing the image: \", e)\n",
    "        return None\n",
    "\n",
    "# Define class names as per Fashion MNIST labels\n",
    "class_names = ['T-shirt/top', 'Trouser', 'Pullover', 'Dress', 'Coat',\n",
    "               'Sandal', 'Shirt', 'Sneaker', 'Bag', 'Ankle boot']\n",
    "\n",
    "# Example usage\n",
    "image_url = 'https://encrypted-tbn0.gstatic.com/images?q=tbn:ANd9GcTYaNUQ01cZnm7w8kB-_F_U9Mf-RSn3uwpzCA&s'\n",
    "image = download_image(image_url)\n",
    "img = load_and_preprocess_image(image)\n",
    "\n",
    "if img is not None:\n",
    "    predictions = model.predict(img)[0]  # Get predictions for the first (and only) image\n",
    "    # Get the indices of the top 5 predictions\n",
    "    top_5_indices = np.argsort(predictions)[-5:][::-1]\n",
    "    top_5_values = predictions[top_5_indices]\n",
    "    top_5_classes = [class_names[i] for i in top_5_indices]\n",
    "\n",
    "    # Print the top 5 predictions with their probabilities\n",
    "    print(\"Top 5 Predicted Classes with Probabilities:\")\n",
    "    for i in range(5):\n",
    "        print(f\"{top_5_classes[i]}: {top_5_values[i]*100:.2f}%\")\n",
    "else:\n",
    "    print(\"Failed to process image.\")"
   ]
  },
  {
   "cell_type": "code",
   "execution_count": 9,
   "id": "f2f0b84c-2b23-439f-ac78-6e2d3f56d7f5",
   "metadata": {},
   "outputs": [
    {
     "data": {
      "image/png": "[encoded data removed]",
      "text/plain": [
       "<Figure size 600x300 with 2 Axes>"
      ]
     },
     "metadata": {},
     "output_type": "display_data"
    }
   ],
   "source": [
    "import numpy as np\n",
    "import requests\n",
    "from PIL import Image\n",
    "from io import BytesIO\n",
    "from tensorflow.keras.preprocessing.image import img_to_array\n",
    "import matplotlib.pyplot as plt\n",
    "\n",
    "def download_image(image_url):\n",
    "    response = requests.get(image_url)\n",
    "    if response.status_code == 200:\n",
    "        return Image.open(BytesIO(response.content))\n",
    "    else:\n",
    "        return None\n",
    "\n",
    "def preprocess_and_visualize_image(image):\n",
    "    if image is None:\n",
    "        print(\"Failed to download image.\")\n",
    "        return None\n",
    "\n",
    "    # Show original image\n",
    "    plt.figure(figsize=(6, 3))\n",
    "    plt.subplot(1, 2, 1)\n",
    "    plt.imshow(image, cmap='gray')\n",
    "    plt.title(\"Original Image\")\n",
    "    plt.axis('off')\n",
    "\n",
    "    # Preprocessing\n",
    "    image = image.convert('L').resize((28, 28))  # Convert to grayscale and resize\n",
    "    processed_image = img_to_array(image) / 255.0  # Convert to array and normalize\n",
    "    processed_image = np.expand_dims(processed_image, axis=0)  # Add batch dimension\n",
    "\n",
    "    # Show processed image\n",
    "    plt.subplot(1, 2, 2)\n",
    "    plt.imshow(processed_image.squeeze(), cmap='gray')  # Squeeze to remove batch dimension for display\n",
    "    plt.title(\"Processed Image\")\n",
    "    plt.axis('off')\n",
    "\n",
    "    plt.show()\n",
    "\n",
    "    return processed_image\n",
    "\n",
    "# Example usage\n",
    "image_url = 'https://encrypted-tbn0.gstatic.com/images?q=tbn:ANd9GcTYaNUQ01cZnm7w8kB-_F_U9Mf-RSn3uwpzCA&s'\n",
    "image = download_image(image_url)\n",
    "processed_image = preprocess_and_visualize_image(image)"
   ]
  },
  {
   "cell_type": "code",
   "execution_count": 10,
   "id": "aad92167-da3a-40d5-812a-1a920ccdd70e",
   "metadata": {},
   "outputs": [],
   "source": [
    "model.save('vini_fashion_model.keras')"
   ]
  }
 ],
 "metadata": {
  "kernelspec": {
   "display_name": "Myproject",
   "language": "python",
   "name": "myproject"
  },
  "language_info": {
   "codemirror_mode": {
    "name": "ipython",
    "version": 3
   },
   "file_extension": ".py",
   "mimetype": "text/x-python",
   "name": "python",
   "nbconvert_exporter": "python",
   "pygments_lexer": "ipython3",
   "version": "3.11.5"
  }
 },
 "nbformat": 4,
 "nbformat_minor": 5
}
